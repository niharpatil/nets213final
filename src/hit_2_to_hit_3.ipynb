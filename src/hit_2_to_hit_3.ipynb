{
 "cells": [
  {
   "cell_type": "code",
   "execution_count": 1,
   "metadata": {},
   "outputs": [],
   "source": [
    "import pandas as pd\n",
    "import numpy as np\n",
    "import csv\n",
    "import math"
   ]
  },
  {
   "cell_type": "code",
   "execution_count": 48,
   "metadata": {},
   "outputs": [],
   "source": [
    "data = pd.read_csv('turk_output_1.csv')\n",
    "data = data.iloc[:, -6:-2]\n",
    "\n",
    "columns = ['word_1', 'word_2', 'word_3']\n",
    "temp = np.array([['temp', 'temp', 'temp']])\n",
    "final_data = pd.DataFrame(temp, index = [0])\n",
    "#final_data = final_data.append([['temp', 'temp', 'temp']])\n"
   ]
  },
  {
   "cell_type": "code",
   "execution_count": 78,
   "metadata": {
    "scrolled": false
   },
   "outputs": [],
   "source": [
    "holder = [[]]\n",
    "r_index = 0\n",
    "for index, row in data.iterrows():\n",
    "    for word in row:\n",
    "        if (len(holder[r_index]) == 3):\n",
    "            r_index += 1\n",
    "            holder.append([])\n",
    "        #    final_data = final_data.append(holder)\n",
    "         #   holder = [[]]\n",
    "        if not pd.isnull(word) and word != 'nan':\n",
    "            holder[r_index].append(word)\n",
    "         #   print(word)\n",
    "        else:\n",
    "            x = []\n",
    "          #  print(word)\n",
    "        \n",
    "final_data = pd.DataFrame(holder)\n",
    "final_data.columns = ['word_1', 'word_2', 'word_3']\n"
   ]
  },
  {
   "cell_type": "code",
   "execution_count": 81,
   "metadata": {},
   "outputs": [],
   "source": [
    "final_data.to_csv(r'hit_2_input.csv')"
   ]
  },
  {
   "cell_type": "code",
   "execution_count": null,
   "metadata": {},
   "outputs": [],
   "source": []
  }
 ],
 "metadata": {
  "kernelspec": {
   "display_name": "Python 3",
   "language": "python",
   "name": "python3"
  },
  "language_info": {
   "codemirror_mode": {
    "name": "ipython",
    "version": 3
   },
   "file_extension": ".py",
   "mimetype": "text/x-python",
   "name": "python",
   "nbconvert_exporter": "python",
   "pygments_lexer": "ipython3",
   "version": "3.6.5"
  }
 },
 "nbformat": 4,
 "nbformat_minor": 2
}
