{
 "cells": [
  {
   "cell_type": "code",
   "execution_count": 86,
   "metadata": {},
   "outputs": [],
   "source": [
    "import pandas as pd\n",
    "import numpy as np\n",
    "\n",
    "hit3 = pd.read_csv('hit_3_output.csv')\n",
    "\n",
    "qlist = []\n",
    "parties = []\n",
    "for col in range(27,97,5):\n",
    "    x = hit3.columns[col]\n",
    "    topic = x[x.find(\".\")+1:x.rfind(\".\")]\n",
    "    qlist.append(topic)\n",
    "for col in range(100,145,5):\n",
    "    x = hit3.columns[col]\n",
    "    topic = x[x.find(\".\")+1:x.rfind(\".\")]\n",
    "    qlist.append(topic)\n",
    "for col in range(97,100):\n",
    "    x = hit3.columns[col]\n",
    "    party = x[x.rfind(\".\")+1:]\n",
    "    parties.append(party)"
   ]
  },
  {
   "cell_type": "code",
   "execution_count": 82,
   "metadata": {},
   "outputs": [
    {
     "data": {
      "text/plain": [
       "Index(['Answer.party.democrat', 'Answer.party.independent',\n",
       "       'Answer.party.republican'],\n",
       "      dtype='object')"
      ]
     },
     "execution_count": 82,
     "metadata": {},
     "output_type": "execute_result"
    }
   ],
   "source": [
    "hit3.columns[27:97:5]\n",
    "hit3.columns[97:100]\n",
    "#hit3.columns[100:145:5]"
   ]
  },
  {
   "cell_type": "code",
   "execution_count": 710,
   "metadata": {},
   "outputs": [],
   "source": [
    "o1 = 0\n",
    "o2 = 0\n",
    "n12 = 0\n",
    "b12 = 0\n",
    "n = len(hit3)\n",
    "for index, row in hit3.iterrows():\n",
    "    person = {}\n",
    "    y_exists = False\n",
    "    if row['Answer.agree_test.agree'] and row['Answer.dis_test.disagree']:\n",
    "        n12 += 1\n",
    "    elif row['Answer.agree_test.agree'] and not row['Answer.dis_test.disagree']:\n",
    "        o2 += 1   \n",
    "    elif not row['Answer.agree_test.agree'] and row['Answer.dis_test.disagree']:\n",
    "        o1 += 1    \n",
    "    elif not row['Answer.agree_test.agree'] and not row['Answer.dis_test.disagree']:\n",
    "        b12 += 1\n",
    "o1 /= n\n",
    "o2 /= n\n",
    "b12 /= n\n",
    "n12 /= n"
   ]
  },
  {
   "cell_type": "code",
   "execution_count": 746,
   "metadata": {},
   "outputs": [
    {
     "name": "stdout",
     "output_type": "stream",
     "text": [
      "0.046296296296296294\n"
     ]
    }
   ],
   "source": [
    "print(b12)"
   ]
  },
  {
   "cell_type": "code",
   "execution_count": 772,
   "metadata": {},
   "outputs": [
    {
     "data": {
      "image/png": "[encoded data removed]",
      "text/plain": [
       "<Figure size 432x288 with 1 Axes>"
      ]
     },
     "metadata": {},
     "output_type": "display_data"
    }
   ],
   "source": [
    "labels = 'Got both QC (85.6%)','Missed First QC (0.9%)', 'Missed Second QC (8.8%)', 'Missed Both QC (4.6%)'\n",
    "colors = ['seagreen', 'pink', 'lightcoral', 'red']\n",
    "patches, texts  = plt.pie([n12,o1,o2,b12],colors=colors, startangle=50)\n",
    "plt.legend(patches, labels, loc=\"best\")\n",
    "plt.axis('equal')\n",
    "plt.tight_layout()\n",
    "plt.show()"
   ]
  },
  {
   "cell_type": "code",
   "execution_count": 139,
   "metadata": {},
   "outputs": [],
   "source": [
    "baddies = 0\n",
    "non_answered = 0\n",
    "miss= 0\n",
    "people = []\n",
    "scale = {'agree':1,'disagree':-1,'neither':0,'s_disagree':-2,'s_agree':2}\n",
    "parties = {'democrat':-1,'independent':0,'republican':1}\n",
    "for index, row in hit3.iterrows():\n",
    "    person = {}\n",
    "    y_exists = False\n",
    "    if row['Answer.agree_test.agree'] and row['Answer.dis_test.disagree']:\n",
    "        for topic in qlist:\n",
    "            answered = False\n",
    "            for ans in scale:\n",
    "                res = row['Answer.'+str(topic)+\".\"+str(ans)]\n",
    "                if res:\n",
    "                    person[topic] = float(scale[ans])\n",
    "                    answered = True\n",
    "            if answered == False:\n",
    "                non_answered += 1\n",
    "                person[topic] = -100.\n",
    "        for party in parties:\n",
    "            res = row['Answer.party.'+party]\n",
    "            if res:\n",
    "                person['party'] = float(parties[party])\n",
    "                y_exists = True\n",
    "        if not y_exists:\n",
    "            miss +=1\n",
    "        if y_exists:\n",
    "            people.append(person)\n",
    "        else:\n",
    "            pass\n",
    "    else:\n",
    "        baddies +=1\n",
    "df = pd.DataFrame(people)"
   ]
  },
  {
   "cell_type": "code",
   "execution_count": 142,
   "metadata": {},
   "outputs": [],
   "source": [
    "#averaging everyone who put no result\n",
    "ncols = len(df.columns)\n",
    "totals = [0]*ncols\n",
    "ns = [0]*ncols\n",
    "for index, row in df.iterrows():\n",
    "    for col in range(ncols):\n",
    "        if row[col] != -100:\n",
    "            totals[col] += row[col]\n",
    "            ns[col] += 1\n",
    "avgs = [0]*ncols\n",
    "desc = {}\n",
    "for col in range(ncols):\n",
    "    avgs[col] = totals[col] / ns[col]\n",
    "    desc[df.columns[col]] = avgs[col]\n",
    "    \n",
    "#set -100s to the average    \n",
    "for index, row in df.iterrows():\n",
    "    for col in range(ncols):\n",
    "        if row[col] == -100:\n",
    "            row[col] = desc[df.columns[col]]"
   ]
  },
  {
   "cell_type": "code",
   "execution_count": 414,
   "metadata": {},
   "outputs": [],
   "source": [
    "from sklearn.model_selection import train_test_split\n",
    "ys = df['party']\n",
    "xs = df[qlist]\n",
    "X_train, X_test, y_train, y_test = train_test_split(xs, ys, test_size=0.2, random_state=0)"
   ]
  },
  {
   "cell_type": "code",
   "execution_count": 235,
   "metadata": {},
   "outputs": [
    {
     "name": "stdout",
     "output_type": "stream",
     "text": [
      "Accuracy: 0.3783783783783784\n"
     ]
    }
   ],
   "source": [
    "from sklearn.linear_model import LogisticRegression\n",
    "reg = LogisticRegression(solver='lbfgs',multi_class='multinomial').fit(X_train, y_train)\n",
    "pred = reg.predict(X_test)\n",
    "tpred = reg.predict(X_train)\n",
    "print(\"Accuracy: \" + str(np.sum(pred == y_test) / len(y_test)))\n",
    "#reg.coef_"
   ]
  },
  {
   "cell_type": "code",
   "execution_count": 358,
   "metadata": {},
   "outputs": [
    {
     "name": "stdout",
     "output_type": "stream",
     "text": [
      "Kmeans accuracy: 0.13513513513513514\n"
     ]
    }
   ],
   "source": [
    "from sklearn.cluster import KMeans\n",
    "import itertools\n",
    "\n",
    "kmeans = KMeans(n_clusters=3, random_state=4).fit(X_train)\n",
    "ky = kmeans.predict(X_test)\n",
    "perm = list(itertools.permutations([-1, 0, 1]))\n",
    "\n",
    "max_acc = -1\n",
    "max_p = (0,0,0)\n",
    "for p in perm:\n",
    "    total = 0\n",
    "    for i in range(len(kmeans.labels_)):\n",
    "        val = p[int(kmeans.labels_[i])]\n",
    "        if val == y_train.values[i]:\n",
    "            total += 1           \n",
    "    acc = total / len(kmeans.labels_)\n",
    "    #print(acc)\n",
    "    \n",
    "    if acc > max_acc:\n",
    "        max_p = p\n",
    "        max_acc = acc\n",
    "        \n",
    "total = 0\n",
    "for i in range(len(ky)):\n",
    "    val = p[int(ky[i])]\n",
    "    if val == y_test.values[i]:\n",
    "        total += 1           \n",
    "kmeans_acc = total / len(ky)\n",
    "print(\"Kmeans accuracy: \"+str(kmeans_acc))"
   ]
  },
  {
   "cell_type": "code",
   "execution_count": 365,
   "metadata": {},
   "outputs": [
    {
     "name": "stdout",
     "output_type": "stream",
     "text": [
      "{'Republican': 48, 'Independent': 63, 'Democrat': 74}\n"
     ]
    }
   ],
   "source": [
    "nparties = {\"Democrat\":0, \"Republican\":0,\"Independent\":0}\n",
    "for party in ys:\n",
    "    if party == -1:\n",
    "        nparties['Democrat'] += 1\n",
    "    elif party == 1:\n",
    "        nparties['Republican'] += 1\n",
    "    elif party == 0:\n",
    "        nparties['Independent'] += 1\n",
    "    else:\n",
    "        print(\"ERROR\")\n",
    "print (nparties)"
   ]
  },
  {
   "cell_type": "code",
   "execution_count": 377,
   "metadata": {},
   "outputs": [],
   "source": [
    "from sklearn.feature_selection import RFE\n",
    "from sklearn.svm import SVR\n",
    "\n",
    "estimator = SVR(kernel=\"linear\")\n",
    "selector = RFE(estimator, 1, step=1)\n",
    "selector = selector.fit(X_train, y_train)\n",
    "r = selector.ranking_"
   ]
  },
  {
   "cell_type": "code",
   "execution_count": 689,
   "metadata": {},
   "outputs": [
    {
     "name": "stdout",
     "output_type": "stream",
     "text": [
      "CV accuracy: 0.43243243243243246\n"
     ]
    }
   ],
   "source": [
    "X_train, X_test, y_train, y_test = train_test_split(xs, ys, test_size=0.2, random_state=0)\n",
    "n_states = 10\n",
    "nd = 21\n",
    "accuracies = [0] * nd\n",
    "for state in range(n_states):\n",
    "    for d in range(2,nd+2):\n",
    "        Xs = X_train[list(np.nonzero((r<d) * 1)[0])]\n",
    "        X_tr_cv, X_te_cv, y_tr_cv, y_te_cv = train_test_split(Xs, y_train, test_size=0.2, random_state=state)\n",
    "        reg = LogisticRegression(solver='lbfgs',multi_class='multinomial').fit(X_tr_cv, y_tr_cv)\n",
    "        pred = reg.predict(X_te_cv)\n",
    "        #print(\"Accuracy \"+str(d-1)+\" features:\" + str(np.sum(pred == y_te_cv) / len(y_te_cv)))\n",
    "        accuracies[d-2] += np.sum(pred == y_te_cv) / len(y_te_cv)\n",
    "\n",
    "for i in range(nd):\n",
    "    accuracies[i] /= n_states\n",
    "bestd = np.argmax(accuracies)+2\n",
    "Xs = X_train[list(np.nonzero((r<bestd) * 1)[0])]\n",
    "reg = LogisticRegression(solver='lbfgs',multi_class='multinomial').fit(Xs, y_train)\n",
    "pred = reg.predict(X_test[list(np.nonzero((r<bestd) * 1)[0])])\n",
    "print(\"CV accuracy: \" + str(np.sum(pred == y_test) / len(y_test)))"
   ]
  },
  {
   "cell_type": "code",
   "execution_count": 699,
   "metadata": {},
   "outputs": [
    {
     "data": {
      "image/png": "[encoded data removed]",
      "text/plain": [
       "<Figure size 432x288 with 1 Axes>"
      ]
     },
     "metadata": {
      "needs_background": "light"
     },
     "output_type": "display_data"
    }
   ],
   "source": [
    "plt.plot(accuracies)\n",
    "plt.xticks([i for i in range(0, nd)])\n",
    "plt.xlabel(\"Number of features\")\n",
    "plt.ylabel(\"Classifier Accuracy (R-I-D)\")\n",
    "plt.title(\"Cross-Validation Backward-Selection Feature Graph\")\n",
    "plt.show()"
   ]
  },
  {
   "cell_type": "code",
   "execution_count": 492,
   "metadata": {},
   "outputs": [
    {
     "name": "stdout",
     "output_type": "stream",
     "text": [
      "Accuracy handpicked features:0.5405405405405406\n"
     ]
    }
   ],
   "source": [
    "opt = ['movies', 'music_n', 'read', 'religion', 'science', 'sports', 'tech', 'tv', 'vg']\n",
    "X_train, X_test, y_train, y_test = train_test_split(xs[opt], ys, test_size=0.2, random_state=0)\n",
    "reg = LogisticRegression(solver='lbfgs',multi_class='multinomial').fit(X_train, y_train)\n",
    "pred = reg.predict(X_test)\n",
    "tpred = reg.predict(X_train)\n",
    "print(\"Accuracy handpicked features:\" + str(np.sum(pred == y_test) / len(y_test)))"
   ]
  },
  {
   "cell_type": "code",
   "execution_count": 700,
   "metadata": {},
   "outputs": [],
   "source": [
    "txs = X_train[list(np.nonzero((r<14) * 1)[0])]\n",
    "import itertools\n",
    "topics = []\n",
    "for s in range(1,14):\n",
    "    temp = itertools.combinations(txs, s)\n",
    "    for top in temp:\n",
    "        topics.append(list(top))"
   ]
  },
  {
   "cell_type": "code",
   "execution_count": 701,
   "metadata": {},
   "outputs": [
    {
     "data": {
      "text/plain": [
       "8191"
      ]
     },
     "execution_count": 701,
     "metadata": {},
     "output_type": "execute_result"
    }
   ],
   "source": [
    "len(topics)"
   ]
  },
  {
   "cell_type": "code",
   "execution_count": 592,
   "metadata": {},
   "outputs": [
    {
     "name": "stdout",
     "output_type": "stream",
     "text": [
      "['gardening', 'hobby', 'science', 'sports']\n",
      "CV accuracy: 0.35135135135135137\n"
     ]
    }
   ],
   "source": [
    "X_train, X_test, y_train, y_test = train_test_split(xs, ys, test_size=0.2, random_state=99)\n",
    "n_states = 1\n",
    "accuracies = [0] * len(topics)\n",
    "for state in range(n_states):\n",
    "    for i in range(len(topics)):\n",
    "        Xs = X_train[topics[i]]\n",
    "        X_tr_cv, X_te_cv, y_tr_cv, y_te_cv = train_test_split(Xs, y_train, test_size=0.2, random_state=state)\n",
    "        reg = LogisticRegression(solver='lbfgs',multi_class='multinomial').fit(X_tr_cv, y_tr_cv)\n",
    "        pred = reg.predict(X_te_cv)\n",
    "        #print(\"Accuracy \"+str(d-1)+\" features:\" + str(np.sum(pred == y_te_cv) / len(y_te_cv)))\n",
    "        accuracies[i] += np.sum(pred == y_te_cv) / len(y_te_cv)\n",
    "        \n",
    "best_set = np.argmax(accuracies)\n",
    "Xs = X_train[topics[best_set]]\n",
    "print(topics[best_set])\n",
    "reg = LogisticRegression(solver='lbfgs',multi_class='multinomial').fit(Xs, y_train)\n",
    "pred = reg.predict(X_test[topics[best_set]])\n",
    "print(\"CV accuracy: \" + str(np.sum(pred == y_test) / len(y_test)))"
   ]
  },
  {
   "cell_type": "code",
   "execution_count": 591,
   "metadata": {},
   "outputs": [
    {
     "name": "stdout",
     "output_type": "stream",
     "text": [
      "0.5675675675675675, 99\n"
     ]
    }
   ],
   "source": [
    "best_acc = 0\n",
    "bstate = 0\n",
    "for i in range(100):\n",
    "    X_train, X_test, y_train, y_test = train_test_split(xs, ys, test_size=0.2, random_state=i)\n",
    "    Xs = X_train[topics[best_set]]\n",
    "    reg = LogisticRegression(solver='lbfgs',multi_class='multinomial').fit(Xs, y_train)\n",
    "    pred = reg.predict(X_test[topics[best_set]])\n",
    "    acc = np.sum(pred == y_test) / len(y_test)\n",
    "    if acc > best_acc:\n",
    "        bstate = i\n",
    "        best_acc = acc\n",
    "print(str(best_acc)+\", \"+str(i))"
   ]
  },
  {
   "cell_type": "code",
   "execution_count": 485,
   "metadata": {},
   "outputs": [
    {
     "name": "stdout",
     "output_type": "stream",
     "text": [
      "Kmeans accuracy: 0.2972972972972973\n"
     ]
    }
   ],
   "source": [
    "#KMEANS with handpicked features\n",
    "X_train, X_test, y_train, y_test = train_test_split(xs[opt], ys, test_size=0.2, random_state=0)\n",
    "kmeans = KMeans(n_clusters=3, random_state=4).fit(X_train)\n",
    "ky = kmeans.predict(X_test)\n",
    "perm = list(itertools.permutations([-1, 0, 1]))\n",
    "\n",
    "max_acc = -1\n",
    "max_p = (0,0,0)\n",
    "for p in perm:\n",
    "    total = 0\n",
    "    for i in range(len(kmeans.labels_)):\n",
    "        val = p[int(kmeans.labels_[i])]\n",
    "        if val == y_train.values[i]:\n",
    "            total += 1           \n",
    "    acc = total / len(kmeans.labels_)\n",
    "    \n",
    "    if acc > max_acc:\n",
    "        max_p = p\n",
    "        max_acc = acc\n",
    "        \n",
    "total = 0\n",
    "for i in range(len(ky)):\n",
    "    val = p[int(ky[i])]\n",
    "    if val == y_test.values[i]:\n",
    "        total += 1           \n",
    "kmeans_acc = total / len(ky)\n",
    "print(\"Kmeans accuracy: \"+str(kmeans_acc))"
   ]
  },
  {
   "cell_type": "code",
   "execution_count": 636,
   "metadata": {},
   "outputs": [
    {
     "data": {
      "text/plain": [
       "array(['agree_test', 'cooking', 'dis_test', 'education', 'finance', 'fit',\n",
       "       'football', 'gardening', 'hobby', 'math', 'movies', 'music',\n",
       "       'music_n', 'parent', 'pet', 'photography', 'read', 'religion',\n",
       "       'science', 'sports', 'tech', 'tv', 'vg'], dtype='<U11')"
      ]
     },
     "execution_count": 636,
     "metadata": {},
     "output_type": "execute_result"
    }
   ],
   "source": []
  },
  {
   "cell_type": "code",
   "execution_count": 653,
   "metadata": {},
   "outputs": [],
   "source": [
    "#averaging all \n",
    "ncols = len(df.columns)\n",
    "dem_totals = [0]*ncols\n",
    "rep_totals = [0]*ncols\n",
    "ind_totals = [0]*ncols\n",
    "nds = [0]*ncols\n",
    "nrs = [0]*ncols\n",
    "nis = [0]*ncols\n",
    "ind_rows = []\n",
    "for index, row in df.iterrows():\n",
    "    if row['party'] == 0:\n",
    "        ind_rows.append(index)\n",
    "    for col in range(ncols):\n",
    "        if row['party'] == -1:\n",
    "            dem_totals[col] += row[col]\n",
    "            nds[col] += 1\n",
    "        if row['party'] == 0:\n",
    "            ind_totals[col] += row[col]\n",
    "            nis[col] += 1\n",
    "            \n",
    "        if row['party'] == 1:\n",
    "            rep_totals[col] += row[col]\n",
    "            nrs[col] += 1\n",
    "avgd = [0]*ncols\n",
    "avgr = [0]*ncols\n",
    "avgi = [0]*ncols\n",
    "desc = {}\n",
    "for col in range(ncols):\n",
    "    avgd[col] = dem_totals[col] / nds[col]\n",
    "    avgi[col] = ind_totals[col] / nis[col]\n",
    "    avgr[col] = rep_totals[col] / nrs[col]\n",
    "    desc[df.columns[col]+\"_d\"] = avgd[col]\n",
    "    desc[df.columns[col]+\"_r\"] = avgr[col]\n",
    "    desc[df.columns[col]+\"_i\"] = avgi[col]\n",
    "bdf = pd.DataFrame({'Republican': avgr, 'Independent': avgi, 'Democrat': avgd}, index=df.columns)\n",
    "bdf = bdf.drop('agree_test')\n",
    "bdf = bdf.drop('dis_test')"
   ]
  },
  {
   "cell_type": "code",
   "execution_count": 650,
   "metadata": {},
   "outputs": [],
   "source": [
    "rddf = df.drop(ind_rows)"
   ]
  },
  {
   "cell_type": "code",
   "execution_count": 622,
   "metadata": {},
   "outputs": [],
   "source": [
    "import matplotlib.pyplot as plt"
   ]
  },
  {
   "cell_type": "code",
   "execution_count": 644,
   "metadata": {},
   "outputs": [
    {
     "data": {
      "image/png": "[encoded data removed]",
      "text/plain": [
       "<Figure size 1440x720 with 1 Axes>"
      ]
     },
     "metadata": {
      "needs_background": "light"
     },
     "output_type": "display_data"
    }
   ],
   "source": [
    "ax = bdf.plot.bar(rot=0,  figsize=(20, 10))"
   ]
  },
  {
   "cell_type": "code",
   "execution_count": 680,
   "metadata": {},
   "outputs": [
    {
     "name": "stdout",
     "output_type": "stream",
     "text": [
      "Accuracy handpicked features:0.6\n"
     ]
    }
   ],
   "source": [
    "opt = ['fit', 'hobby', 'math', 'music_n', 'religion', 'sports', 'vg']\n",
    "ni_ys = rddf['party']\n",
    "ni_xs = rddf[qlist]\n",
    "X_train, X_test, y_train, y_test = train_test_split(ni_xs, ni_ys, test_size=0.2, random_state=0)\n",
    "#X_train, X_test, y_train, y_test = train_test_split(ni_xs[opt], ni_ys, test_size=0.2, random_state=0)\n",
    "reg = LogisticRegression(solver='lbfgs').fit(X_train, y_train)\n",
    "pred = reg.predict(X_test)\n",
    "tpred = reg.predict(X_train)\n",
    "print(\"Accuracy handpicked features:\" + str(np.sum(pred == y_test) / len(y_test)))"
   ]
  },
  {
   "cell_type": "code",
   "execution_count": null,
   "metadata": {},
   "outputs": [],
   "source": [
    "txs = X_train[list(np.nonzero((r<14) * 1)[0])]\n",
    "topics = []\n",
    "for s in range(1,14):\n",
    "    temp = itertools.combinations(txs, s)\n",
    "    for top in temp:\n",
    "        topics.append(list(top))"
   ]
  },
  {
   "cell_type": "code",
   "execution_count": 703,
   "metadata": {},
   "outputs": [
    {
     "name": "stdout",
     "output_type": "stream",
     "text": [
      "['parent', 'sports', 'tech']\n",
      "CV accuracy: 0.56\n"
     ]
    }
   ],
   "source": [
    "X_train, X_test, y_train, y_test = train_test_split(ni_xs, ni_ys, test_size=0.2, random_state=99)\n",
    "accuracies = [0] * len(topics)\n",
    "n_states = 1\n",
    "\n",
    "for state in range(n_states):\n",
    "    for i in range(len(topics)):\n",
    "        Xs = X_train[topics[i]]\n",
    "        X_tr_cv, X_te_cv, y_tr_cv, y_te_cv = train_test_split(Xs, y_train, test_size=0.2, random_state=state)\n",
    "        reg = LogisticRegression(solver='lbfgs',multi_class='multinomial').fit(X_tr_cv, y_tr_cv)\n",
    "        pred = reg.predict(X_te_cv)\n",
    "        #print(\"Accuracy \"+str(d-1)+\" features:\" + str(np.sum(pred == y_te_cv) / len(y_te_cv)))\n",
    "        accuracies[i] += np.sum(pred == y_te_cv) / len(y_te_cv)\n",
    "\n",
    "for i in range(len(topics)):\n",
    "    accuracies[i] /= n_states\n",
    "best_set = np.argmax(accuracies)\n",
    "Xs = X_train[topics[best_set]]\n",
    "print(topics[best_set])\n",
    "reg = LogisticRegression(solver='lbfgs',multi_class='multinomial').fit(Xs, y_train)\n",
    "pred = reg.predict(X_test[topics[best_set]])\n",
    "print(\"CV accuracy: \" + str(np.sum(pred == y_test) / len(y_test)))"
   ]
  },
  {
   "cell_type": "code",
   "execution_count": 685,
   "metadata": {},
   "outputs": [
    {
     "name": "stdout",
     "output_type": "stream",
     "text": [
      "SVM accuracy: 0.56\n"
     ]
    }
   ],
   "source": [
    "from sklearn import svm\n",
    "clf = svm.SVC(gamma = 'auto')\n",
    "clf.fit(X_train[opt], y_train)  \n",
    "pred = clf.predict(X_test[opt])\n",
    "print(\"SVM accuracy: \" + str(np.sum(pred == y_test) / len(y_test)))"
   ]
  },
  {
   "cell_type": "code",
   "execution_count": 708,
   "metadata": {},
   "outputs": [
    {
     "data": {
      "image/png": "[encoded data removed]",
      "text/plain": [
       "<Figure size 432x288 with 1 Axes>"
      ]
     },
     "metadata": {
      "needs_background": "light"
     },
     "output_type": "display_data"
    }
   ],
   "source": [
    "plt.plot(accuracies)\n",
    "plt.xticks([i for i in range(0, len(topics),1000)])\n",
    "plt.xlabel(\"Subset Selection Index (Size Increases to the Right)\")\n",
    "plt.ylabel(\"Classifier Accuracy (R-D)\")\n",
    "plt.title(\"Cross-Validation Best Subset Feature Graph\")\n",
    "plt.show()"
   ]
  },
  {
   "cell_type": "code",
   "execution_count": null,
   "metadata": {},
   "outputs": [],
   "source": []
  },
  {
   "cell_type": "code",
   "execution_count": null,
   "metadata": {},
   "outputs": [],
   "source": []
  }
 ],
 "metadata": {
  "kernelspec": {
   "display_name": "Python 3",
   "language": "python",
   "name": "python3"
  },
  "language_info": {
   "codemirror_mode": {
    "name": "ipython",
    "version": 3
   },
   "file_extension": ".py",
   "mimetype": "text/x-python",
   "name": "python",
   "nbconvert_exporter": "python",
   "pygments_lexer": "ipython3",
   "version": "3.5.1+"
  }
 },
 "nbformat": 4,
 "nbformat_minor": 2
}
