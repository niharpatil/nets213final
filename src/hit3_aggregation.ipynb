{
 "cells": [
  {
   "cell_type": "code",
   "execution_count": 1,
   "metadata": {},
   "outputs": [],
   "source": [
    "import pandas as pd\n",
    "import numpy as np\n",
    "import csv"
   ]
  },
  {
   "cell_type": "code",
   "execution_count": 5,
   "metadata": {},
   "outputs": [],
   "source": [
    "hit_3 = pd.read_csv('turker_output_3.csv')"
   ]
  },
  {
   "cell_type": "code",
   "execution_count": 6,
   "metadata": {},
   "outputs": [],
   "source": [
    "#These are each indexed by topic. That is, a_pred[i-1] is the amount of people who predicted A for topic i\n",
    "\n",
    "a_pred = [0, 0, 0, 0, 0, 0]\n",
    "b_pred = [0, 0, 0, 0, 0, 0]\n",
    "a_perc = [0, 0, 0, 0, 0, 0]\n",
    "b_perc = [0, 0, 0, 0, 0, 0]\n",
    "topic_counts = [0, 0, 0, 0, 0, 0]"
   ]
  },
  {
   "cell_type": "code",
   "execution_count": 25,
   "metadata": {},
   "outputs": [
    {
     "name": "stdout",
     "output_type": "stream",
     "text": [
      "B\n",
      "ef\n",
      "nan\n",
      "ef\n",
      "nan\n",
      "ef\n",
      "nan\n",
      "ef\n",
      "A\n",
      "ef\n",
      "A\n",
      "ef\n",
      "A\n",
      "ef\n",
      "A\n",
      "ef\n",
      "nan\n",
      "ef\n",
      "A\n",
      "ef\n",
      "nan\n",
      "ef\n",
      "A\n",
      "ef\n",
      "A\n",
      "ef\n",
      "nan\n",
      "ef\n",
      "B\n",
      "ef\n",
      "nan\n",
      "ef\n",
      "A\n",
      "ef\n",
      "nan\n",
      "ef\n",
      "nan\n",
      "ef\n",
      "A\n",
      "ef\n",
      "nan\n",
      "ef\n",
      "A\n",
      "ef\n",
      "B\n",
      "ef\n",
      "nan\n",
      "ef\n",
      "A\n",
      "ef\n",
      "nan\n",
      "ef\n",
      "A\n",
      "ef\n",
      "B\n",
      "ef\n",
      "A\n",
      "ef\n",
      "nan\n",
      "ef\n",
      "nan\n",
      "ef\n",
      "B\n",
      "ef\n",
      "nan\n",
      "ef\n",
      "B\n",
      "ef\n",
      "A\n",
      "ef\n",
      "A\n",
      "ef\n",
      "nan\n",
      "ef\n",
      "A\n",
      "ef\n",
      "B\n",
      "ef\n",
      "A\n",
      "ef\n",
      "A\n",
      "ef\n",
      "A\n",
      "ef\n",
      "nan\n",
      "ef\n",
      "B\n",
      "ef\n",
      "nan\n",
      "ef\n",
      "B\n",
      "ef\n",
      "nan\n",
      "ef\n",
      "B\n",
      "ef\n",
      "nan\n",
      "ef\n",
      "nan\n",
      "ef\n",
      "B\n",
      "ef\n",
      "nan\n",
      "ef\n",
      "nan\n",
      "ef\n",
      "nan\n",
      "ef\n",
      "B\n",
      "ef\n",
      "A\n",
      "ef\n",
      "A\n",
      "ef\n",
      "A\n",
      "ef\n",
      "A\n",
      "ef\n",
      "A\n",
      "ef\n",
      "A\n",
      "ef\n",
      "nan\n",
      "ef\n",
      "B\n",
      "ef\n",
      "B\n",
      "ef\n",
      "nan\n",
      "ef\n",
      "nan\n",
      "ef\n",
      "A\n",
      "ef\n",
      "A\n",
      "ef\n",
      "nan\n",
      "ef\n",
      "nan\n",
      "ef\n",
      "B\n",
      "ef\n",
      "nan\n",
      "ef\n"
     ]
    }
   ],
   "source": [
    "num_topics = 6\n",
    "for index, row in hit_3.iterrows():\n",
    "        for i in range(0,num_topics):\n",
    "            pred = row['pred_topic'+str(i+1)]\n",
    "            print(pred)\n",
    "            if pred != 'nan':\n",
    "                print('ef')\n",
    "                topic_counts[i] += 1\n",
    "                if pred == 'A':\n",
    "                    a_pred[i] += 1\n",
    "                elif pred == 'B':\n",
    "                    b_pred[i] += 1\n",
    "                a_perc[i] += row['prob_A'+str(i+1)]\n",
    "                b_perc[i] += row['prob_B'+str(i+1)]\n",
    "\n",
    "for i in range(0, 6):\n",
    "    a_perc[i] = a_perc[i] / topic_counts[i]\n",
    "    b_perc[i] = b_perc[i] / topic_counts[i]"
   ]
  },
  {
   "cell_type": "code",
   "execution_count": 26,
   "metadata": {},
   "outputs": [
    {
     "data": {
      "text/plain": [
       "[30, 30, 12, 24, 36, 31]"
      ]
     },
     "execution_count": 26,
     "metadata": {},
     "output_type": "execute_result"
    }
   ],
   "source": [
    "a_pred"
   ]
  },
  {
   "cell_type": "code",
   "execution_count": 27,
   "metadata": {},
   "outputs": [
    {
     "data": {
      "text/plain": [
       "[12, 13, 24, 24, 12, 6]"
      ]
     },
     "execution_count": 27,
     "metadata": {},
     "output_type": "execute_result"
    }
   ],
   "source": [
    "b_pred"
   ]
  },
  {
   "cell_type": "code",
   "execution_count": 28,
   "metadata": {},
   "outputs": [
    {
     "data": {
      "text/plain": [
       "[7.1474184510402985,\n",
       " 7.534999377291252,\n",
       " 7.938908751868234,\n",
       " 7.827485477870772,\n",
       " 10.794130296167445,\n",
       " 8.969574110378062]"
      ]
     },
     "execution_count": 28,
     "metadata": {},
     "output_type": "execute_result"
    }
   ],
   "source": [
    "a_perc"
   ]
  },
  {
   "cell_type": "code",
   "execution_count": 29,
   "metadata": {},
   "outputs": [
    {
     "data": {
      "text/plain": [
       "[9.802981037592819,\n",
       " 9.178492732306212,\n",
       " 8.77458335772923,\n",
       " 8.886006631726692,\n",
       " 5.919361813430018,\n",
       " 7.743917999219401]"
      ]
     },
     "execution_count": 29,
     "metadata": {},
     "output_type": "execute_result"
    }
   ],
   "source": [
    "b_perc"
   ]
  },
  {
   "cell_type": "code",
   "execution_count": 30,
   "metadata": {},
   "outputs": [
    {
     "data": {
      "text/plain": [
       "[72, 73, 73, 73, 73, 73]"
      ]
     },
     "execution_count": 30,
     "metadata": {},
     "output_type": "execute_result"
    }
   ],
   "source": [
    "topic_counts"
   ]
  },
  {
   "cell_type": "code",
   "execution_count": null,
   "metadata": {},
   "outputs": [],
   "source": []
  }
 ],
 "metadata": {
  "kernelspec": {
   "display_name": "Python 3",
   "language": "python",
   "name": "python3"
  },
  "language_info": {
   "codemirror_mode": {
    "name": "ipython",
    "version": 3
   },
   "file_extension": ".py",
   "mimetype": "text/x-python",
   "name": "python",
   "nbconvert_exporter": "python",
   "pygments_lexer": "ipython3",
   "version": "3.6.5"
  }
 },
 "nbformat": 4,
 "nbformat_minor": 2
}
