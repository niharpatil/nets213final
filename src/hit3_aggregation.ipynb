{
 "cells": [
  {
   "cell_type": "code",
   "execution_count": 43,
   "metadata": {},
   "outputs": [],
   "source": [
    "import pandas as pd\n",
    "import numpy as np\n",
    "import csv\n",
    "import math"
   ]
  },
  {
   "cell_type": "code",
   "execution_count": 44,
   "metadata": {},
   "outputs": [
    {
     "data": {
      "text/plain": [
       "True"
      ]
     },
     "execution_count": 44,
     "metadata": {},
     "output_type": "execute_result"
    }
   ],
   "source": [
    "hit_3 = pd.read_csv('turker_output_3.csv')\n",
    "math.isnan(hit_3['pred_topic2'][0])"
   ]
  },
  {
   "cell_type": "code",
   "execution_count": 60,
   "metadata": {},
   "outputs": [],
   "source": [
    "#These are each indexed by topic. That is, a_pred[i-1] is the amount of people who predicted A for topic i\n",
    "\n",
    "a_pred = [0, 0, 0, 0, 0, 0]\n",
    "b_pred = [0, 0, 0, 0, 0, 0]\n",
    "a_perc = [0, 0, 0, 0, 0, 0]\n",
    "b_perc = [0, 0, 0, 0, 0, 0]\n",
    "topic_counts = [0, 0, 0, 0, 0, 0]"
   ]
  },
  {
   "cell_type": "code",
   "execution_count": 61,
   "metadata": {},
   "outputs": [],
   "source": [
    "num_topics = 6\n",
    "for index, row in hit_3.iterrows():\n",
    "        for i in range(0,num_topics):\n",
    "            pred = row['pred_topic'+str(i+1)]\n",
    "            if isinstance(pred, str):\n",
    "                topic_counts[i] += 1\n",
    "                if pred == 'A':\n",
    "                    a_pred[i] += 1\n",
    "                elif pred == 'B':\n",
    "                    b_pred[i] += 1\n",
    "                a_perc[i] += row['prob_A'+str(i+1)]\n",
    "                b_perc[i] += row['prob_B'+str(i+1)]\n",
    "\n",
    "for i in range(0, 6):\n",
    "    a_perc[i] = a_perc[i] / topic_counts[i]\n",
    "    b_perc[i] = b_perc[i] / topic_counts[i]"
   ]
  },
  {
   "cell_type": "code",
   "execution_count": 62,
   "metadata": {},
   "outputs": [
    {
     "data": {
      "text/plain": [
       "[5, 5, 2, 4, 6, 5]"
      ]
     },
     "execution_count": 62,
     "metadata": {},
     "output_type": "execute_result"
    }
   ],
   "source": [
    "a_pred"
   ]
  },
  {
   "cell_type": "code",
   "execution_count": 63,
   "metadata": {},
   "outputs": [
    {
     "data": {
      "text/plain": [
       "[2, 2, 4, 4, 2, 1]"
      ]
     },
     "execution_count": 63,
     "metadata": {},
     "output_type": "execute_result"
    }
   ],
   "source": [
    "b_pred"
   ]
  },
  {
   "cell_type": "code",
   "execution_count": 64,
   "metadata": {},
   "outputs": [
    {
     "data": {
      "text/plain": [
       "[49.142857142857146,\n",
       " 52.57142857142857,\n",
       " 56.333333333333336,\n",
       " 44.5,\n",
       " 57.125,\n",
       " 65.83333333333333]"
      ]
     },
     "execution_count": 64,
     "metadata": {},
     "output_type": "execute_result"
    }
   ],
   "source": [
    "a_perc"
   ]
  },
  {
   "cell_type": "code",
   "execution_count": 65,
   "metadata": {},
   "outputs": [
    {
     "data": {
      "text/plain": [
       "[50.857142857142854,\n",
       " 47.42857142857143,\n",
       " 43.666666666666664,\n",
       " 55.5,\n",
       " 42.875,\n",
       " 34.166666666666664]"
      ]
     },
     "execution_count": 65,
     "metadata": {},
     "output_type": "execute_result"
    }
   ],
   "source": [
    "b_perc"
   ]
  },
  {
   "cell_type": "code",
   "execution_count": 66,
   "metadata": {},
   "outputs": [
    {
     "data": {
      "text/plain": [
       "[7, 7, 6, 8, 8, 6]"
      ]
     },
     "execution_count": 66,
     "metadata": {},
     "output_type": "execute_result"
    }
   ],
   "source": [
    "topic_counts"
   ]
  },
  {
   "cell_type": "code",
   "execution_count": null,
   "metadata": {},
   "outputs": [],
   "source": []
  }
 ],
 "metadata": {
  "kernelspec": {
   "display_name": "Python 3",
   "language": "python",
   "name": "python3"
  },
  "language_info": {
   "codemirror_mode": {
    "name": "ipython",
    "version": 3
   },
   "file_extension": ".py",
   "mimetype": "text/x-python",
   "name": "python",
   "nbconvert_exporter": "python",
   "pygments_lexer": "ipython3",
   "version": "3.6.5"
  }
 },
 "nbformat": 4,
 "nbformat_minor": 2
}
