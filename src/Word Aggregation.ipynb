{
 "cells": [
  {
   "cell_type": "code",
   "execution_count": 74,
   "metadata": {},
   "outputs": [],
   "source": [
    "import gensim.models.keyedvectors as word2vec\n",
    "from sklearn.cluster import KMeans\n",
    "import numpy as np\n",
    "\n",
    "\n",
    "filename = 'GoogleNews-vectors-negative300.bin'\n",
    "#word_list = ['soccer', 'futbol','football', 'politics','Chelsea','elections','stocks','electronics','India','prime-minister','Champions-league']\n",
    "model = word2vec.KeyedVectors.load_word2vec_format(filename, binary=True)\n",
    "unknowns = []\n",
    "knowns = []\n",
    "knames = []\n",
    "word_list = dic_list\n",
    "for i in range(len(word_list)):\n",
    "    try:\n",
    "        knowns.append(model[word_list[i]])\n",
    "        knames.append(word_list[i])\n",
    "    except:\n",
    "        unknowns.append(word_list[i])\n",
    "    for j in range(len(word_list)):\n",
    "        if word_list[j] not in unknowns:\n",
    "            try:\n",
    "                print (str(word_list[i])+ \", \"+str(word_list[j])+ \": \" + str(model.similarity(word_list[i],word_list[j])))\n",
    "            except:\n",
    "                unknowns.append(word_list[j])\n",
    "\n",
    "dists = []\n",
    "K = range(1,5)\n",
    "for k in K:\n",
    "    km = KMeans(n_clusters=k)\n",
    "    km = km.fit(knowns)\n",
    "    dists.append(km.inertia_)\n",
    "\n",
    "kmeans = KMeans(n_clusters=np.argmin(dists), random_state=0).fit(knowns)\n",
    "labels = kmeans.labels_"
   ]
  },
  {
   "cell_type": "code",
   "execution_count": null,
   "metadata": {},
   "outputs": [],
   "source": []
  },
  {
   "cell_type": "code",
   "execution_count": 137,
   "metadata": {},
   "outputs": [],
   "source": [
    "all_pairs = []\n",
    "for c in range(np.argmin(dists)):\n",
    "    cluster_words = []\n",
    "    for i in range(len(knowns)):\n",
    "        if(kmeans.labels_[i] == c):\n",
    "            cluster_words.append(word_list[i])    \n",
    "    top3 = model.most_similar(positive=cluster_words, topn=3)\n",
    "    for u in unknowns:\n",
    "        for i in range(3):\n",
    "            all_pairs.append( (u, top3[i][0]) );"
   ]
  },
  {
   "cell_type": "code",
   "execution_count": null,
   "metadata": {},
   "outputs": [],
   "source": []
  },
  {
   "cell_type": "code",
   "execution_count": null,
   "metadata": {},
   "outputs": [],
   "source": []
  },
  {
   "cell_type": "code",
   "execution_count": null,
   "metadata": {},
   "outputs": [],
   "source": []
  },
  {
   "cell_type": "code",
   "execution_count": null,
   "metadata": {},
   "outputs": [],
   "source": []
  },
  {
   "cell_type": "code",
   "execution_count": null,
   "metadata": {},
   "outputs": [],
   "source": []
  },
  {
   "cell_type": "code",
   "execution_count": null,
   "metadata": {},
   "outputs": [],
   "source": []
  }
 ],
 "metadata": {
  "kernelspec": {
   "display_name": "Python 3",
   "language": "python",
   "name": "python3"
  },
  "language_info": {
   "codemirror_mode": {
    "name": "ipython",
    "version": 3
   },
   "file_extension": ".py",
   "mimetype": "text/x-python",
   "name": "python",
   "nbconvert_exporter": "python",
   "pygments_lexer": "ipython3",
   "version": "3.5.2"
  }
 },
 "nbformat": 4,
 "nbformat_minor": 2
}
